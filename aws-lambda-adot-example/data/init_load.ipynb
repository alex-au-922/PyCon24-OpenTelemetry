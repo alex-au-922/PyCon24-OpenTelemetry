{
 "cells": [
  {
   "cell_type": "code",
   "execution_count": null,
   "metadata": {},
   "outputs": [],
   "source": [
    "import boto3\n",
    "import pandas as pd\n",
    "from itertools import batched"
   ]
  },
  {
   "cell_type": "code",
   "execution_count": 5,
   "metadata": {},
   "outputs": [],
   "source": [
    "df = pd.read_csv('amazon_kitchenware.csv')"
   ]
  },
  {
   "cell_type": "code",
   "execution_count": 14,
   "metadata": {},
   "outputs": [],
   "source": [
    "# convert column names to snake_case\n",
    "df.columns = (df.columns\n",
    "                .str.replace('(?<=[a-z])(?=[A-Z])', '_', regex=True)\n",
    "                .str.lower()\n",
    "             )\n",
    "\n",
    "df = df.rename(columns={'asin': 'product_id'})\n",
    "\n",
    "info_df = df[['product_id', 'title', 'brand', 'description', 'stars', 'reviews_count', 'bread_crumbs', 'url']]\n",
    "price_df = df[['product_id', 'price/currency', 'price/value']]"
   ]
  },
  {
   "cell_type": "markdown",
   "metadata": {},
   "source": [
    "### Writing product info into AWS Dynamodb"
   ]
  },
  {
   "cell_type": "code",
   "execution_count": 18,
   "metadata": {},
   "outputs": [],
   "source": [
    "aws_admin_session = boto3.Session(profile_name='admin')\n",
    "\n",
    "dynamodb = aws_admin_session.client('dynamodb', region_name = 'ap-southeast-1')\n",
    "\n",
    "for batched_rows in batched(info_df.to_dict('records'), 10):\n",
    "    response = dynamodb.batch_write_item(\n",
    "        RequestItems={\n",
    "            'product_info': [\n",
    "                {\n",
    "                    'PutRequest': {\n",
    "                        'Item': {\n",
    "                            k: {'S': str(v)} for k, v in row.items()\n",
    "                        }\n",
    "                    }\n",
    "                } for row in batched_rows\n",
    "            ]\n",
    "        }\n",
    "    )\n",
    "    "
   ]
  }
 ],
 "metadata": {
  "kernelspec": {
   "display_name": ".venv",
   "language": "python",
   "name": "python3"
  },
  "language_info": {
   "codemirror_mode": {
    "name": "ipython",
    "version": 3
   },
   "file_extension": ".py",
   "mimetype": "text/x-python",
   "name": "python",
   "nbconvert_exporter": "python",
   "pygments_lexer": "ipython3",
   "version": "3.12.7"
  }
 },
 "nbformat": 4,
 "nbformat_minor": 2
}
