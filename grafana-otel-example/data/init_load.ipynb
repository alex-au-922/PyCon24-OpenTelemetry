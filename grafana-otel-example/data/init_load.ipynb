{
 "cells": [
  {
   "cell_type": "code",
   "execution_count": 2,
   "metadata": {},
   "outputs": [],
   "source": [
    "import pymysql\n",
    "import redis\n",
    "import pandas as pd\n",
    "from itertools import batched"
   ]
  },
  {
   "cell_type": "code",
   "execution_count": 3,
   "metadata": {},
   "outputs": [],
   "source": [
    "df = pd.read_csv('amazon_kitchenware.csv')"
   ]
  },
  {
   "cell_type": "code",
   "execution_count": 4,
   "metadata": {},
   "outputs": [],
   "source": [
    "# convert column names to snake_case\n",
    "df.columns = (df.columns\n",
    "                .str.replace('(?<=[a-z])(?=[A-Z])', '_', regex=True)\n",
    "                .str.lower()\n",
    "             )\n",
    "\n",
    "df = df.rename(columns={'asin': 'product_id'})[\n",
    "    ~df['price/value'].isna()\n",
    "]\n",
    "\n",
    "info_df = df[['product_id', 'title', 'brand', 'description', 'stars', 'reviews_count', 'bread_crumbs', 'url']]\n",
    "price_df = df[['product_id', 'price/currency', 'price/value']]"
   ]
  },
  {
   "cell_type": "markdown",
   "metadata": {},
   "source": [
    "### Writing product info into Redis"
   ]
  },
  {
   "cell_type": "code",
   "execution_count": 5,
   "metadata": {},
   "outputs": [
    {
     "name": "stderr",
     "output_type": "stream",
     "text": [
      "/var/folders/vv/v235wtnd4kb6l7ql8sx8h4fh0000gn/T/ipykernel_21152/857722342.py:6: DeprecationWarning: Pipeline.hmset() is deprecated. Use Pipeline.hset() instead.\n",
      "  pipe.hmset(f'product:{record[\"product_id\"]}', record)\n"
     ]
    }
   ],
   "source": [
    "redis_conn = redis.Redis(host='localhost', port=6379, db=0)\n",
    "\n",
    "for batch in batched(info_df.to_dict(orient='records'), 100):\n",
    "    with redis_conn.pipeline() as pipe:\n",
    "        for record in batch:\n",
    "            pipe.hmset(f'product:{record[\"product_id\"]}', record)\n",
    "        pipe.execute()"
   ]
  },
  {
   "cell_type": "markdown",
   "metadata": {},
   "source": [
    "### Writing product price into Postgres"
   ]
  },
  {
   "cell_type": "code",
   "execution_count": 6,
   "metadata": {},
   "outputs": [],
   "source": [
    "credentials = {\n",
    "    'user': 'mysql',\n",
    "    'password': 'mysql',\n",
    "    'database': 'mysql',\n",
    "    'host': \"localhost\",\n",
    "    'port': 3306\n",
    "}\n",
    "\n",
    "with (\n",
    "    pymysql.connect(**credentials) as conn,\n",
    "    conn.cursor() as cursor\n",
    "):\n",
    "    CREATE_TABLE_STMT = \"\"\"\n",
    "        CREATE TABLE product_price (\n",
    "            product_id VARCHAR(10) PRIMARY KEY,\n",
    "            currency VARCHAR(3),\n",
    "            value FLOAT\n",
    "        );\n",
    "    \"\"\"\n",
    "    \n",
    "    cursor.execute(CREATE_TABLE_STMT)\n",
    "    \n",
    "    for batched_rows in batched(price_df.to_dict('records'), 10):\n",
    "        insert_stmt = \"\"\"\n",
    "            INSERT INTO product_price (product_id, currency, value)\n",
    "            VALUES (%s, %s, %s)\n",
    "        \"\"\"\n",
    "        cursor.executemany(insert_stmt, [(row['product_id'], row['price/currency'], row['price/value']) for row in batched_rows])\n",
    "    conn.commit()"
   ]
  },
  {
   "cell_type": "code",
   "execution_count": null,
   "metadata": {},
   "outputs": [],
   "source": []
  },
  {
   "cell_type": "code",
   "execution_count": null,
   "metadata": {},
   "outputs": [],
   "source": []
  }
 ],
 "metadata": {
  "kernelspec": {
   "display_name": ".venv",
   "language": "python",
   "name": "python3"
  },
  "language_info": {
   "codemirror_mode": {
    "name": "ipython",
    "version": 3
   },
   "file_extension": ".py",
   "mimetype": "text/x-python",
   "name": "python",
   "nbconvert_exporter": "python",
   "pygments_lexer": "ipython3",
   "version": "3.12.7"
  }
 },
 "nbformat": 4,
 "nbformat_minor": 2
}
